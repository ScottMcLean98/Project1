{
 "cells": [
  {
   "cell_type": "code",
   "execution_count": 1,
   "id": "531e450f",
   "metadata": {},
   "outputs": [],
   "source": [
    "#importing the dependencies\n",
    "import pandas as pd\n",
    "import numpy as np\n",
    "import matplotlib.pyplot as plt"
   ]
  },
  {
   "cell_type": "code",
   "execution_count": 2,
   "id": "eb17e611",
   "metadata": {},
   "outputs": [],
   "source": [
    "#creating the path to the data I downloaded \n",
    "path = \"../Downloads/QuickFacts Feb-06-2023.csv\"\n",
    "csv_file = pd.read_csv(path)"
   ]
  },
  {
   "cell_type": "code",
   "execution_count": 3,
   "id": "27fee5b3",
   "metadata": {
    "scrolled": false
   },
   "outputs": [
    {
     "data": {
      "text/html": [
       "<div>\n",
       "<style scoped>\n",
       "    .dataframe tbody tr th:only-of-type {\n",
       "        vertical-align: middle;\n",
       "    }\n",
       "\n",
       "    .dataframe tbody tr th {\n",
       "        vertical-align: top;\n",
       "    }\n",
       "\n",
       "    .dataframe thead th {\n",
       "        text-align: right;\n",
       "    }\n",
       "</style>\n",
       "<table border=\"1\" class=\"dataframe\">\n",
       "  <thead>\n",
       "    <tr style=\"text-align: right;\">\n",
       "      <th></th>\n",
       "      <th>Fact</th>\n",
       "      <th>Fact Note</th>\n",
       "      <th>Seattle city, Washington</th>\n",
       "      <th>Value Note for Seattle city, Washington</th>\n",
       "    </tr>\n",
       "  </thead>\n",
       "  <tbody>\n",
       "    <tr>\n",
       "      <th>0</th>\n",
       "      <td>Population Estimates, July 1 2022, (V2022)</td>\n",
       "      <td>NaN</td>\n",
       "      <td>NaN</td>\n",
       "      <td>NaN</td>\n",
       "    </tr>\n",
       "    <tr>\n",
       "      <th>1</th>\n",
       "      <td>Population Estimates, July 1 2021, (V2021)</td>\n",
       "      <td>NaN</td>\n",
       "      <td>733,919</td>\n",
       "      <td>NaN</td>\n",
       "    </tr>\n",
       "    <tr>\n",
       "      <th>2</th>\n",
       "      <td>Population estimates base, April 1, 2020, (V2022)</td>\n",
       "      <td>NaN</td>\n",
       "      <td>NaN</td>\n",
       "      <td>NaN</td>\n",
       "    </tr>\n",
       "    <tr>\n",
       "      <th>3</th>\n",
       "      <td>Population estimates base, April 1, 2020, (V2021)</td>\n",
       "      <td>NaN</td>\n",
       "      <td>735,157</td>\n",
       "      <td>NaN</td>\n",
       "    </tr>\n",
       "    <tr>\n",
       "      <th>4</th>\n",
       "      <td>Population, percent change - April 1, 2020 (es...</td>\n",
       "      <td>NaN</td>\n",
       "      <td>NaN</td>\n",
       "      <td>NaN</td>\n",
       "    </tr>\n",
       "  </tbody>\n",
       "</table>\n",
       "</div>"
      ],
      "text/plain": [
       "                                                Fact Fact Note  \\\n",
       "0         Population Estimates, July 1 2022, (V2022)       NaN   \n",
       "1         Population Estimates, July 1 2021, (V2021)       NaN   \n",
       "2  Population estimates base, April 1, 2020, (V2022)       NaN   \n",
       "3  Population estimates base, April 1, 2020, (V2021)       NaN   \n",
       "4  Population, percent change - April 1, 2020 (es...       NaN   \n",
       "\n",
       "  Seattle city, Washington  Value Note for Seattle city, Washington  \n",
       "0                      NaN                                      NaN  \n",
       "1                  733,919                                      NaN  \n",
       "2                      NaN                                      NaN  \n",
       "3                  735,157                                      NaN  \n",
       "4                      NaN                                      NaN  "
      ]
     },
     "execution_count": 3,
     "metadata": {},
     "output_type": "execute_result"
    }
   ],
   "source": [
    "#Creating a new dataframe with the newly read data\n",
    "new_df = pd.DataFrame(csv_file)\n",
    "new_df.head()"
   ]
  },
  {
   "cell_type": "code",
   "execution_count": 4,
   "id": "f4aa4cb8",
   "metadata": {},
   "outputs": [
    {
     "data": {
      "text/html": [
       "<div>\n",
       "<style scoped>\n",
       "    .dataframe tbody tr th:only-of-type {\n",
       "        vertical-align: middle;\n",
       "    }\n",
       "\n",
       "    .dataframe tbody tr th {\n",
       "        vertical-align: top;\n",
       "    }\n",
       "\n",
       "    .dataframe thead th {\n",
       "        text-align: right;\n",
       "    }\n",
       "</style>\n",
       "<table border=\"1\" class=\"dataframe\">\n",
       "  <thead>\n",
       "    <tr style=\"text-align: right;\">\n",
       "      <th></th>\n",
       "      <th>Fact</th>\n",
       "      <th>Seattle city, Washington</th>\n",
       "    </tr>\n",
       "  </thead>\n",
       "  <tbody>\n",
       "    <tr>\n",
       "      <th>1</th>\n",
       "      <td>Population Estimates, July 1 2021, (V2021)</td>\n",
       "      <td>733,919</td>\n",
       "    </tr>\n",
       "    <tr>\n",
       "      <th>3</th>\n",
       "      <td>Population estimates base, April 1, 2020, (V2021)</td>\n",
       "      <td>735,157</td>\n",
       "    </tr>\n",
       "    <tr>\n",
       "      <th>5</th>\n",
       "      <td>Population, percent change - April 1, 2020 (es...</td>\n",
       "      <td>-0.2%</td>\n",
       "    </tr>\n",
       "    <tr>\n",
       "      <th>6</th>\n",
       "      <td>Population, Census, April 1, 2020</td>\n",
       "      <td>737,015</td>\n",
       "    </tr>\n",
       "    <tr>\n",
       "      <th>7</th>\n",
       "      <td>Population, Census, April 1, 2010</td>\n",
       "      <td>608,660</td>\n",
       "    </tr>\n",
       "    <tr>\n",
       "      <th>...</th>\n",
       "      <td>...</td>\n",
       "      <td>...</td>\n",
       "    </tr>\n",
       "    <tr>\n",
       "      <th>62</th>\n",
       "      <td>Population per square mile, 2020</td>\n",
       "      <td>8,791.8</td>\n",
       "    </tr>\n",
       "    <tr>\n",
       "      <th>63</th>\n",
       "      <td>Population per square mile, 2010</td>\n",
       "      <td>7,250.9</td>\n",
       "    </tr>\n",
       "    <tr>\n",
       "      <th>64</th>\n",
       "      <td>Land area in square miles, 2020</td>\n",
       "      <td>83.83</td>\n",
       "    </tr>\n",
       "    <tr>\n",
       "      <th>65</th>\n",
       "      <td>Land area in square miles, 2010</td>\n",
       "      <td>83.94</td>\n",
       "    </tr>\n",
       "    <tr>\n",
       "      <th>66</th>\n",
       "      <td>FIPS Code</td>\n",
       "      <td>\"5363000\"</td>\n",
       "    </tr>\n",
       "  </tbody>\n",
       "</table>\n",
       "<p>64 rows × 2 columns</p>\n",
       "</div>"
      ],
      "text/plain": [
       "                                                 Fact Seattle city, Washington\n",
       "1          Population Estimates, July 1 2021, (V2021)                  733,919\n",
       "3   Population estimates base, April 1, 2020, (V2021)                  735,157\n",
       "5   Population, percent change - April 1, 2020 (es...                    -0.2%\n",
       "6                   Population, Census, April 1, 2020                  737,015\n",
       "7                   Population, Census, April 1, 2010                  608,660\n",
       "..                                                ...                      ...\n",
       "62                   Population per square mile, 2020                  8,791.8\n",
       "63                   Population per square mile, 2010                  7,250.9\n",
       "64                    Land area in square miles, 2020                    83.83\n",
       "65                    Land area in square miles, 2010                    83.94\n",
       "66                                          FIPS Code                \"5363000\"\n",
       "\n",
       "[64 rows x 2 columns]"
      ]
     },
     "execution_count": 4,
     "metadata": {},
     "output_type": "execute_result"
    }
   ],
   "source": [
    "#creating a cleaned dataframe with dropped NaN values\n",
    "population_df = pd.DataFrame(new_df[[\"Fact\" , \"Seattle city, Washington\"]])\n",
    "population_df = population_df.dropna()\n",
    "population_df"
   ]
  },
  {
   "cell_type": "code",
   "execution_count": 5,
   "id": "8414e2cd",
   "metadata": {},
   "outputs": [
    {
     "data": {
      "text/html": [
       "<div>\n",
       "<style scoped>\n",
       "    .dataframe tbody tr th:only-of-type {\n",
       "        vertical-align: middle;\n",
       "    }\n",
       "\n",
       "    .dataframe tbody tr th {\n",
       "        vertical-align: top;\n",
       "    }\n",
       "\n",
       "    .dataframe thead th {\n",
       "        text-align: right;\n",
       "    }\n",
       "</style>\n",
       "<table border=\"1\" class=\"dataframe\">\n",
       "  <thead>\n",
       "    <tr style=\"text-align: right;\">\n",
       "      <th></th>\n",
       "      <th>Fact</th>\n",
       "      <th>Seattle city, Washington</th>\n",
       "    </tr>\n",
       "  </thead>\n",
       "  <tbody>\n",
       "    <tr>\n",
       "      <th>1</th>\n",
       "      <td>Population Estimates, July 1 2021, (V2021)</td>\n",
       "      <td>733919</td>\n",
       "    </tr>\n",
       "    <tr>\n",
       "      <th>3</th>\n",
       "      <td>Population estimates base, April 1, 2020, (V2021)</td>\n",
       "      <td>735157</td>\n",
       "    </tr>\n",
       "    <tr>\n",
       "      <th>5</th>\n",
       "      <td>Population, percent change - April 1, 2020 (es...</td>\n",
       "      <td>-0.2</td>\n",
       "    </tr>\n",
       "    <tr>\n",
       "      <th>6</th>\n",
       "      <td>Population, Census, April 1, 2020</td>\n",
       "      <td>737015</td>\n",
       "    </tr>\n",
       "    <tr>\n",
       "      <th>7</th>\n",
       "      <td>Population, Census, April 1, 2010</td>\n",
       "      <td>608660</td>\n",
       "    </tr>\n",
       "    <tr>\n",
       "      <th>...</th>\n",
       "      <td>...</td>\n",
       "      <td>...</td>\n",
       "    </tr>\n",
       "    <tr>\n",
       "      <th>62</th>\n",
       "      <td>Population per square mile, 2020</td>\n",
       "      <td>8791.8</td>\n",
       "    </tr>\n",
       "    <tr>\n",
       "      <th>63</th>\n",
       "      <td>Population per square mile, 2010</td>\n",
       "      <td>7250.9</td>\n",
       "    </tr>\n",
       "    <tr>\n",
       "      <th>64</th>\n",
       "      <td>Land area in square miles, 2020</td>\n",
       "      <td>83.83</td>\n",
       "    </tr>\n",
       "    <tr>\n",
       "      <th>65</th>\n",
       "      <td>Land area in square miles, 2010</td>\n",
       "      <td>83.94</td>\n",
       "    </tr>\n",
       "    <tr>\n",
       "      <th>66</th>\n",
       "      <td>FIPS Code</td>\n",
       "      <td>\"5363000\"</td>\n",
       "    </tr>\n",
       "  </tbody>\n",
       "</table>\n",
       "<p>64 rows × 2 columns</p>\n",
       "</div>"
      ],
      "text/plain": [
       "                                                 Fact Seattle city, Washington\n",
       "1          Population Estimates, July 1 2021, (V2021)                   733919\n",
       "3   Population estimates base, April 1, 2020, (V2021)                   735157\n",
       "5   Population, percent change - April 1, 2020 (es...                     -0.2\n",
       "6                   Population, Census, April 1, 2020                   737015\n",
       "7                   Population, Census, April 1, 2010                   608660\n",
       "..                                                ...                      ...\n",
       "62                   Population per square mile, 2020                   8791.8\n",
       "63                   Population per square mile, 2010                   7250.9\n",
       "64                    Land area in square miles, 2020                    83.83\n",
       "65                    Land area in square miles, 2010                    83.94\n",
       "66                                          FIPS Code                \"5363000\"\n",
       "\n",
       "[64 rows x 2 columns]"
      ]
     },
     "execution_count": 5,
     "metadata": {},
     "output_type": "execute_result"
    }
   ],
   "source": [
    "#converting the values of the Seattle city, Washington column into clean integers so I can run analysis on the values\n",
    "population_df[\"Seattle city, Washington\"] = population_df[\"Seattle city, Washington\"].replace(',',\"\", regex=True).replace('%',\"\", regex=True).replace('X',\"0\", regex=True).replace('$',\"\", regex=True).replace('\"\"',\"\", regex=True)\n",
    "population_df"
   ]
  },
  {
   "cell_type": "code",
   "execution_count": 6,
   "id": "f73593bc",
   "metadata": {},
   "outputs": [
    {
     "data": {
      "text/plain": [
       "dtype('O')"
      ]
     },
     "execution_count": 6,
     "metadata": {},
     "output_type": "execute_result"
    }
   ],
   "source": [
    "population_df[\"Seattle city, Washington\"].dtypes"
   ]
  },
  {
   "cell_type": "code",
   "execution_count": 7,
   "id": "e91def99",
   "metadata": {},
   "outputs": [
    {
     "name": "stdout",
     "output_type": "stream",
     "text": [
      "-1858\n"
     ]
    }
   ],
   "source": [
    "#getting the population for 2020 and for 2022 and assigning those values to a variable\n",
    "pop_2020 = int(float(population_df[\"Seattle city, Washington\"].values[3]))\n",
    "pop_2022 = int(float(population_df[\"Seattle city, Washington\"].values[1]))\n",
    "\n",
    "pop_change = str(pop_2021 - pop_2020)\n",
    "print(pop_change)"
   ]
  },
  {
   "cell_type": "code",
   "execution_count": 8,
   "id": "b933acee",
   "metadata": {},
   "outputs": [
    {
     "data": {
      "image/png": "[encoded data removed]",
      "text/plain": [
       "<Figure size 576x432 with 1 Axes>"
      ]
     },
     "metadata": {
      "needs_background": "light"
     },
     "output_type": "display_data"
    }
   ],
   "source": [
    "#plotting the population data using the two variables from the cell above in a bar graph\n",
    "#From the bar graph we can determine that there was a loss in population from 2020 to 2022. We have reason to believe that \n",
    "# the option to work remotely is partially to blame for this as people are moving out of the city into cheaper areas since they\n",
    "# don't have to be in the office anymore.\n",
    "x_axis = [\"2020\", \"2022\"]\n",
    "tick_locs = [value for value in x_axis]\n",
    "\n",
    "plt.figure(figsize=(8,6))\n",
    "plt.bar(x_axis, (pop_2020, pop_2022), color='b', alpha=.5)\n",
    "plt.xticks(tick_locs)\n",
    "plt.title(\"Population in Seattle for 2020 vs. 2022\")\n",
    "plt.xlabel(\"Year\")\n",
    "plt.ylabel(\"Population\")\n",
    "plt.ylim(720000, 740000)\n",
    "plt.savefig(\"../Downloads/Population in 2020 vs 2022\")"
   ]
  },
  {
   "cell_type": "code",
   "execution_count": 9,
   "id": "2d4f8115",
   "metadata": {},
   "outputs": [],
   "source": [
    "#getting the percentages of the population that have a high school degree and a college degree and assigning those values to variables\n",
    "high_school_education = int(float(population_df[\"Seattle city, Washington\"].values[32]))\n",
    "college_education = int(float(population_df[\"Seattle city, Washington\"].values[33]))\n"
   ]
  },
  {
   "cell_type": "code",
   "execution_count": 10,
   "id": "571080f9",
   "metadata": {},
   "outputs": [
    {
     "data": {
      "image/png": "[encoded data removed]",
      "text/plain": [
       "<Figure size 576x432 with 1 Axes>"
      ]
     },
     "metadata": {
      "needs_background": "light"
     },
     "output_type": "display_data"
    }
   ],
   "source": [
    "#plotting the education levels using the two variables from the cell above in a bar graph to compare the difference\n",
    "#We can see that over 95% of the population in Seattle has completed high school and over 65% of the same population has received\n",
    "# a bachelor's degree in any field. We can conclude that, because of these higher rates of education level, salaries will tend to be larger.\n",
    "x_axis = [\"High School Education\", \"College Education\"]\n",
    "tick_locations = [value for value in x_axis]\n",
    "\n",
    "plt.figure(figsize=(8,6))\n",
    "plt.bar(x_axis, (high_school_education, college_education), color='orange', alpha=.5)\n",
    "plt.title(\"Education Levels of Seattle Population 2021\")\n",
    "plt.xlabel(\"Education Level\")\n",
    "plt.ylabel(\"Percentage of Population\")\n",
    "plt.savefig(\"../Downloads/Education Levels of Seattle Population\")"
   ]
  },
  {
   "cell_type": "code",
   "execution_count": null,
   "id": "10fc27e6",
   "metadata": {},
   "outputs": [],
   "source": []
  }
 ],
 "metadata": {
  "kernelspec": {
   "display_name": "Python [conda env:PythonData]",
   "language": "python",
   "name": "conda-env-PythonData-py"
  },
  "language_info": {
   "codemirror_mode": {
    "name": "ipython",
    "version": 3
   },
   "file_extension": ".py",
   "mimetype": "text/x-python",
   "name": "python",
   "nbconvert_exporter": "python",
   "pygments_lexer": "ipython3",
   "version": "3.6.10"
  }
 },
 "nbformat": 4,
 "nbformat_minor": 5
}
